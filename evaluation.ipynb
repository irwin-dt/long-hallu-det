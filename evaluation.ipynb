{
 "cells": [
  {
   "cell_type": "markdown",
   "id": "78a98507-30f3-4fc6-9eac-a1cdb2c3575c",
   "metadata": {},
   "source": [
    "### Evaluating your solution on the test set\n",
    "On the second day of the hackathon, we will release the test set for each team to run their hallucination detection methods. \n",
    "The test set comprises of: <br>1) A set of documents, which will be concatenated to form a long context of <128k <br>2) A list of 20 questions which tests a model's ability to extract, process and operate on information from a long context <br>3) A golden answer to the question <br>4) A specific model's outputs, which will be revealed when the test set is released <br>5) A golden hallucination label <br>What you need to do is to apply your hallucination detection solution on the model outputs and provide a classification. <br>The accuracy of your model will decide your score for the Performance (30%) aspect of the Hackathon"
   ]
  },
  {
   "cell_type": "code",
   "execution_count": 1,
   "id": "5e05c9c4-e283-449b-80a6-4a7a726e4cb0",
   "metadata": {},
   "outputs": [],
   "source": [
    "import pandas as pd\n",
    "from pathlib import Path\n",
    "from typing import List, Tuple"
   ]
  },
  {
   "cell_type": "code",
   "execution_count": 2,
   "id": "50f12bc6-70c2-43dc-8660-72865e1adcd5",
   "metadata": {
    "scrolled": true
   },
   "outputs": [
    {
     "name": "stdout",
     "output_type": "stream",
     "text": [
      "DSO National Laboratories\n",
      "\n",
      "“Red Hat is a valuable partner in accelerating DSO’s software development and deployment efforts. This collaboration will significantly advance our knowledge and capabilities in the latest DevSecOps practices as we deliver solutions from enterprise IT systems to mission-critical systems deployed in the field.”\n",
      "\n",
      " \n",
      "\n",
      "Additional Resources\n",
      "\n",
      "Learn more about Red Hat Device Edge\n",
      "Red Hat OpenShift\n",
      "Red Hat Ansible Automation Platform\n",
      "Red Hat training services\n",
      " \n",
      "\n",
      "Connect with Red Hat\n",
      "\n",
      "Learn more about Red Hat\n",
      "Get more news in the Red Hat newsroom\n",
      "Read the Red Hat blog\n",
      "Follow Red Hat on Twitter\n",
      "Join Red Hat on Facebook\n",
      "Watch Red Hat videos on YouTube\n",
      "Follow Red Hat on LinkedIn\n",
      "The 3rd clue is \"I love IEL!\"\n",
      "\n"
     ]
    }
   ],
   "source": [
    "def load_documents(folder_path: str) -> List[Tuple[str, str]]:\n",
    "    docs = []\n",
    "    for file in sorted(Path(folder_path).glob(\"*.txt\")):\n",
    "        with open(file, \"r\", encoding=\"utf-8\") as f:\n",
    "            docs.append((file.name, f.read()))\n",
    "    return docs\n",
    "    \n",
    "def concat_documents(docs: List[Tuple[str, str]]) -> Tuple[str, int]:\n",
    "    combined_text = \"\"\n",
    "    for name, text in docs:\n",
    "        header = f\"\\n\\n===== Document: {name} =====\\n\\n\"\n",
    "        combined_text += header + text\n",
    "    return combined_text\n",
    "    \n",
    "long_context = concat_documents(load_documents(\"dummy_files/hard\"))\n",
    "print(long_context[15198:15930])"
   ]
  },
  {
   "cell_type": "code",
   "execution_count": 3,
   "id": "48463710-0a23-49b4-b03f-acf1de3e5245",
   "metadata": {},
   "outputs": [
    {
     "data": {
      "text/html": [
       "<div>\n",
       "<style scoped>\n",
       "    .dataframe tbody tr th:only-of-type {\n",
       "        vertical-align: middle;\n",
       "    }\n",
       "\n",
       "    .dataframe tbody tr th {\n",
       "        vertical-align: top;\n",
       "    }\n",
       "\n",
       "    .dataframe thead th {\n",
       "        text-align: right;\n",
       "    }\n",
       "</style>\n",
       "<table border=\"1\" class=\"dataframe\">\n",
       "  <thead>\n",
       "    <tr style=\"text-align: right;\">\n",
       "      <th></th>\n",
       "      <th>id</th>\n",
       "      <th>question</th>\n",
       "      <th>golden</th>\n",
       "      <th>thoughts</th>\n",
       "      <th>answers</th>\n",
       "      <th>hallucination</th>\n",
       "    </tr>\n",
       "  </thead>\n",
       "  <tbody>\n",
       "    <tr>\n",
       "      <th>0</th>\n",
       "      <td>1</td>\n",
       "      <td>What does the first clue say?</td>\n",
       "      <td>People Passion Innovation from article1.txt</td>\n",
       "      <td>NaN</td>\n",
       "      <td>The first clue says: \"People Passion Innovation\"</td>\n",
       "      <td>No</td>\n",
       "    </tr>\n",
       "    <tr>\n",
       "      <th>1</th>\n",
       "      <td>2</td>\n",
       "      <td>What is the 2nd clue?</td>\n",
       "      <td>DSO53 from article5.txt</td>\n",
       "      <td>NaN</td>\n",
       "      <td>The second clue is: \"People Passion Innovation.\"</td>\n",
       "      <td>Yes</td>\n",
       "    </tr>\n",
       "    <tr>\n",
       "      <th>2</th>\n",
       "      <td>3</td>\n",
       "      <td>What is Clue #3?</td>\n",
       "      <td>I love IEL! From article3.txt</td>\n",
       "      <td>NaN</td>\n",
       "      <td>Clue #3 is hidden within the description of DS...</td>\n",
       "      <td>Yes</td>\n",
       "    </tr>\n",
       "  </tbody>\n",
       "</table>\n",
       "</div>"
      ],
      "text/plain": [
       "   id                       question  \\\n",
       "0   1  What does the first clue say?   \n",
       "1   2          What is the 2nd clue?   \n",
       "2   3               What is Clue #3?   \n",
       "\n",
       "                                        golden  thoughts  \\\n",
       "0  People Passion Innovation from article1.txt       NaN   \n",
       "1                      DSO53 from article5.txt       NaN   \n",
       "2                I love IEL! From article3.txt       NaN   \n",
       "\n",
       "                                             answers hallucination  \n",
       "0   The first clue says: \"People Passion Innovation\"            No  \n",
       "1   The second clue is: \"People Passion Innovation.\"           Yes  \n",
       "2  Clue #3 is hidden within the description of DS...           Yes  "
      ]
     },
     "execution_count": 3,
     "metadata": {},
     "output_type": "execute_result"
    }
   ],
   "source": [
    "testset = pd.read_csv(\"dummy_testset.csv\")\n",
    "testset"
   ]
  },
  {
   "cell_type": "code",
   "execution_count": 4,
   "id": "26875b7b-c39d-476c-bb32-eec2a03138fc",
   "metadata": {},
   "outputs": [],
   "source": [
    "### Your solution here! Please feel free to be creative! ###\n",
    "def hallu_det(long_context, testset):\n",
    "    ### Assume your solution returns some classification \n",
    "    return [\"Yes\", \"Yes\", \"Yes\"]"
   ]
  },
  {
   "cell_type": "code",
   "execution_count": 5,
   "id": "6fc65e82-6c3c-4bec-abac-790749ae7920",
   "metadata": {},
   "outputs": [],
   "source": [
    "import numpy as np\n",
    "\n",
    "def calculate_score(y_true, y_pred):\n",
    "    # Convert to numpy arrays for easier manipulation\n",
    "    y_true = np.array(y_true)\n",
    "    y_pred = np.array(y_pred)\n",
    "\n",
    "    # Accuracy\n",
    "    accuracy = sum(1 for x,y in zip(y_pred,y_true) if x == y) / len(y_true)\n",
    "    print(f\"Accuracy: {accuracy*100}%\")\n",
    "    \n",
    "    # True Positives, False Positives, False Negatives\n",
    "    tp = np.sum((y_true == \"Yes\") & (y_pred == \"Yes\"))\n",
    "    fp = np.sum((y_true == \"No\") & (y_pred == \"Yes\"))\n",
    "    fn = np.sum((y_true == \"Yes\") & (y_pred == \"No\"))\n",
    "    \n",
    "    # Precision and Recall\n",
    "    precision = tp / (tp + fp) if (tp + fp) > 0 else 0\n",
    "    recall = tp / (tp + fn) if (tp + fn) > 0 else 0\n",
    "    print(f\"Precision: {precision*100}%\")\n",
    "    print(f\"Recall: {recall*100}%\")\n",
    "    \n",
    "    # F1 Score\n",
    "    f1 = 2 * (precision * recall) / (precision + recall) if (precision + recall) > 0 else 0\n",
    "    print(f\"F1 Score: {f1*100}%\")\n",
    "    return f1"
   ]
  },
  {
   "cell_type": "markdown",
   "id": "53fa04dc-94f9-4450-87af-095f8bf4d313",
   "metadata": {},
   "source": [
    "The performance of your solution can be determined by running this: "
   ]
  },
  {
   "cell_type": "code",
   "execution_count": 6,
   "id": "fca716f6-8feb-438a-a847-77977448e810",
   "metadata": {},
   "outputs": [
    {
     "name": "stdout",
     "output_type": "stream",
     "text": [
      "Accuracy: 66.66666666666666%\n",
      "Precision: 66.66666666666666%\n",
      "Recall: 100.0%\n",
      "F1 Score: 80.0%\n"
     ]
    },
    {
     "data": {
      "text/plain": [
       "0.8"
      ]
     },
     "execution_count": 6,
     "metadata": {},
     "output_type": "execute_result"
    }
   ],
   "source": [
    "calculate_score(testset['hallucination'],hallu_det(long_context, testset))"
   ]
  },
  {
   "cell_type": "markdown",
   "id": "35582262-c6e7-454c-a261-327a781ccf5e",
   "metadata": {},
   "source": [
    "Please do approach the H.O.T guys to demonstrate your solution when you run this notebook! We are very interested to learn how to combat hallucinations :)"
   ]
  },
  {
   "cell_type": "markdown",
   "id": "c523b1c4-2f64-42d6-a5df-07fe990cc884",
   "metadata": {},
   "source": [
    "### Here is a hint for you:"
   ]
  },
  {
   "cell_type": "markdown",
   "id": "4ef57666-0d8d-4097-a7fc-b53cddc588e3",
   "metadata": {},
   "source": [
    "The model we will use for testing will be: <br> 1) A small model that can support 128k context length <br> 2) From one of the following model families: Llama, Qwen, Phi or Mistral<br> Note: Recall that your solution should be model agnostic. Remeber to demonstrate that in your presentation!"
   ]
  }
 ],
 "metadata": {
  "kernelspec": {
   "display_name": "Python 3 (ipykernel)",
   "language": "python",
   "name": "python3"
  },
  "language_info": {
   "codemirror_mode": {
    "name": "ipython",
    "version": 3
   },
   "file_extension": ".py",
   "mimetype": "text/x-python",
   "name": "python",
   "nbconvert_exporter": "python",
   "pygments_lexer": "ipython3",
   "version": "3.10.12"
  }
 },
 "nbformat": 4,
 "nbformat_minor": 5
}
